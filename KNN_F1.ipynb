{
  "nbformat": 4,
  "nbformat_minor": 0,
  "metadata": {
    "colab": {
      "provenance": []
    },
    "kernelspec": {
      "name": "python3",
      "display_name": "Python 3"
    },
    "language_info": {
      "name": "python"
    }
  },
  "cells": [
    {
      "cell_type": "code",
      "execution_count": null,
      "metadata": {
        "colab": {
          "base_uri": "https://localhost:8080/"
        },
        "id": "qVXsRsuX09s2",
        "outputId": "422fe950-7713-449e-b2e2-a795e39a1355"
      },
      "outputs": [
        {
          "output_type": "stream",
          "name": "stdout",
          "text": [
            "Mounted at /content/drive\n",
            "/content/drive/MyDrive/Data\n"
          ]
        }
      ],
      "source": [
        "import numpy as np\n",
        "import pandas as pd\n",
        "import scipy.io.wavfile as wav\n",
        "from python_speech_features import mfcc\n",
        "from tempfile import TemporaryFile\n",
        "import os\n",
        "import math\n",
        "import pickle\n",
        "import random\n",
        "import operator\n",
        "from google.colab import drive\n",
        "drive.mount('/content/drive')\n",
        "%cd /content/drive/MyDrive/Data"
      ]
    },
    {
      "cell_type": "code",
      "source": [
        "#define a function to get distance between feature vectors and find neighbors\n",
        "def getNeighbors(trainingset, instance, k):\n",
        "    distances = []\n",
        "    for x in range(len(trainingset)):\n",
        "        dist = distance(trainingset[x], instance, k) + distance(instance,trainingset[x],k)\n",
        "        distances.append((trainingset[x][2], dist))\n",
        "    distances.sort(key=operator.itemgetter(1))\n",
        "    neighbors = []\n",
        "    for x in range(k):\n",
        "        neighbors.append(distances[x][0])\n",
        "    return neighbors"
      ],
      "metadata": {
        "id": "xOYbOFYp1zPl"
      },
      "execution_count": null,
      "outputs": []
    },
    {
      "cell_type": "code",
      "source": [
        "#function to identify the nearest neighbors\n",
        "def nearestclass(neighbors):\n",
        "    classVote = {}\n",
        "\n",
        "    for x in range(len(neighbors)):\n",
        "        response = neighbors[x]\n",
        "        if response in classVote:\n",
        "            classVote[response] += 1\n",
        "        else:\n",
        "            classVote[response] = 1\n",
        "\n",
        "    sorter = sorted(classVote.items(), key=operator.itemgetter(1), reverse=True)\n",
        "    return sorter[0][0]"
      ],
      "metadata": {
        "id": "M87Hxmj62BLD"
      },
      "execution_count": null,
      "outputs": []
    },
    {
      "cell_type": "code",
      "source": [
        "def getAccuracy(testSet, prediction):\n",
        "    correct = 0\n",
        "    for x in range(len(testSet)):\n",
        "        if testSet[x][-1] == prediction[x]:\n",
        "            correct += 1\n",
        "    return 1.0 * correct / len(testSet)"
      ],
      "metadata": {
        "id": "u3ViDghW2Euj"
      },
      "execution_count": null,
      "outputs": []
    },
    {
      "cell_type": "code",
      "source": [
        "import os\n",
        "import pickle\n",
        "import scipy.io.wavfile as wav\n",
        "from python_speech_features import mfcc\n",
        "\n",
        "directory = '/content/drive/My Drive/Data/genres_original'\n",
        "f = open(\"mydataset.dat\", \"wb\")\n",
        "i = 0\n",
        "for folder in os.listdir(directory):\n",
        "    # Skip hidden files and non-directory items\n",
        "    if folder.startswith('.'):\n",
        "        continue\n",
        "\n",
        "    i += 1\n",
        "    if i == 11:\n",
        "        break\n",
        "    for file in os.listdir(os.path.join(directory, folder)):\n",
        "        try:\n",
        "            (rate, sig) = wav.read(os.path.join(directory, folder, file))\n",
        "            mfcc_feat = mfcc(sig, rate, winlen=0.020, appendEnergy=False)\n",
        "            covariance = np.cov(np.matrix.transpose(mfcc_feat))\n",
        "            mean_matrix = mfcc_feat.mean(0)\n",
        "            feature = (mean_matrix, covariance, i)\n",
        "            pickle.dump(feature, f)\n",
        "        except Exception as e:\n",
        "            print(\"Got an exception: \", e, 'in folder: ', folder, ' filename: ', file)\n",
        "f.close()\n"
      ],
      "metadata": {
        "colab": {
          "base_uri": "https://localhost:8080/"
        },
        "id": "tjN7n9no2RYP",
        "outputId": "4b2bd514-7e06-459a-a3d4-0e96ae73c7d7"
      },
      "execution_count": null,
      "outputs": [
        {
          "output_type": "stream",
          "name": "stdout",
          "text": [
            "Got an exception:  File format b'\\xcb\\x15\\x1e\\x16' not understood. Only 'RIFF' and 'RIFX' supported. in folder:  jazz  filename:  jazz.00054.wav\n"
          ]
        }
      ]
    },
    {
      "cell_type": "code",
      "source": [
        "dataset = []\n",
        "\n",
        "def loadDataset(filename, split, trset, teset):\n",
        "    with open('mydataset.dat','rb') as f:\n",
        "        while True:\n",
        "            try:\n",
        "                dataset.append(pickle.load(f))\n",
        "            except EOFError:\n",
        "                f.close()\n",
        "                break\n",
        "    for x in range(len(dataset)):\n",
        "        if random.random() < split:\n",
        "            trset.append(dataset[x])\n",
        "        else:\n",
        "            teset.append(dataset[x])\n",
        "\n",
        "trainingSet = []\n",
        "testSet = []\n",
        "loadDataset('mydataset.dat', 0.68, trainingSet, testSet)\n"
      ],
      "metadata": {
        "id": "s6LBvrEr44tW"
      },
      "execution_count": null,
      "outputs": []
    },
    {
      "cell_type": "code",
      "source": [
        "def distance(instance1, instance2, k):\n",
        "    distance = 0\n",
        "    mm1 = instance1[0]\n",
        "    cm1 = instance1[1]\n",
        "    mm2 = instance2[0]\n",
        "    cm2 = instance2[1]\n",
        "    distance = np.trace(np.dot(np.linalg.inv(cm2), cm1))\n",
        "    distance += (np.dot(np.dot((mm2-mm1).transpose(), np.linalg.inv(cm2)), mm2-mm1))\n",
        "    distance += np.log(np.linalg.det(cm2)) - np.log(np.linalg.det(cm1))\n",
        "    distance -= k\n",
        "    return distance"
      ],
      "metadata": {
        "id": "rzvjllnw5k4N"
      },
      "execution_count": null,
      "outputs": []
    },
    {
      "cell_type": "code",
      "source": [
        "# Make the prediction using KNN(K nearest Neighbors)\n",
        "length = len(testSet)\n",
        "predictions = []\n",
        "for x in range(length):\n",
        "    predictions.append(nearestclass(getNeighbors(trainingSet, testSet[x], 5)))\n",
        "\n",
        "accuracy1 = getAccuracy(testSet, predictions)\n",
        "print(accuracy1)"
      ],
      "metadata": {
        "colab": {
          "base_uri": "https://localhost:8080/"
        },
        "id": "QXJLPZnL5oOb",
        "outputId": "c5c2db84-ce54-4890-812c-64eaa3a367eb"
      },
      "execution_count": null,
      "outputs": [
        {
          "output_type": "stream",
          "name": "stdout",
          "text": [
            "0.6950819672131148\n"
          ]
        }
      ]
    },
    {
      "cell_type": "code",
      "source": [
        "from sklearn.metrics import f1_score, confusion_matrix\n",
        "length = len(testSet)\n",
        "predictions = []\n",
        "true_labels = []\n",
        "\n",
        "for x in range(length):\n",
        "    predictions.append(nearestclass(getNeighbors(trainingSet, testSet[x], 5)))\n",
        "    true_labels.append(testSet[x][-1])\n",
        "\n",
        "# Calculate F1 score\n",
        "f1 = f1_score(true_labels, predictions, average='weighted')\n",
        "print(\"F1 Score:\", f1)\n",
        "\n",
        "# Calculate confusion matrix\n",
        "conf_matrix = confusion_matrix(true_labels, predictions)\n",
        "print(\"Confusion Matrix:\")\n",
        "print(conf_matrix)"
      ],
      "metadata": {
        "colab": {
          "base_uri": "https://localhost:8080/"
        },
        "id": "UMtAZNv2Vnwa",
        "outputId": "fb111a7c-1ff6-4281-afc5-046a4f13baaf"
      },
      "execution_count": null,
      "outputs": [
        {
          "output_type": "stream",
          "name": "stdout",
          "text": [
            "F1 Score: 0.7064046304043112\n",
            "Confusion Matrix:\n",
            "[[19  1  1  0  0  0  2  2  3  0]\n",
            " [ 0 18  0  0  0  1  0  3  0  0]\n",
            " [ 0  0 12  1  1  0  0 17  0  2]\n",
            " [ 0  0  3 24  1  0  0  2  0  2]\n",
            " [ 2  0  2  1 24  0  0  0  0  3]\n",
            " [ 0  1  0  0  0 20  0  0  0  7]\n",
            " [ 0  0  2  0  0  8 19  7  0  1]\n",
            " [ 0  1  3  0  0  2  1 15  1  1]\n",
            " [ 0  0  0  0  0  1  0  2 37  0]\n",
            " [ 0  0  0  0  0  2  0  3  0 24]]\n"
          ]
        }
      ]
    }
  ]
}